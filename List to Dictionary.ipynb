{
 "cells": [
  {
   "cell_type": "markdown",
   "metadata": {},
   "source": [
    "# Conversion of Lists to Dictionary "
   ]
  },
  {
   "cell_type": "markdown",
   "metadata": {},
   "source": [
    "## Method 1"
   ]
  },
  {
   "cell_type": "code",
   "execution_count": 1,
   "metadata": {},
   "outputs": [
    {
     "name": "stdout",
     "output_type": "stream",
     "text": [
      "Output of Method 1 : {'January': 1, 'February': 2, 'March': 3, 'April': 4, 'May': 5, 'June': 6, 'July': 7, 'August': 8, 'September': 9, 'October': 10, 'November': 11, 'December': 12}\n"
     ]
    }
   ],
   "source": [
    "Months = [\"January\", \"February\", \"March\", \"April\", \"May\", \"June\", \"July\", \"August\", \"September\", \"October\", \"November\", \"December\"] \n",
    "Month_Number = [*range(1,13,1)]\n",
    "\n",
    "# To Convert Lists to Dictionary \n",
    "Result_1 = {} \n",
    "for key in Months: \n",
    "    for value in Month_Number: \n",
    "        Result_1[key] = value \n",
    "        Month_Number.remove(value) \n",
    "        break  \n",
    "  \n",
    "# Printing resultant dictionary  \n",
    "print (\"Output of Method 1 : \" +  str(Result_1)) \n"
   ]
  },
  {
   "cell_type": "markdown",
   "metadata": {},
   "source": [
    "## Method 2"
   ]
  },
  {
   "cell_type": "code",
   "execution_count": 2,
   "metadata": {},
   "outputs": [
    {
     "name": "stdout",
     "output_type": "stream",
     "text": [
      "Output of Method 2 : {'January': 1, 'February': 2, 'March': 3, 'April': 4, 'May': 5, 'June': 6, 'July': 7, 'August': 8, 'September': 9, 'October': 10, 'November': 11, 'December': 12}\n"
     ]
    }
   ],
   "source": [
    "Months = [\"January\", \"February\", \"March\", \"April\", \"May\", \"June\", \"July\", \"August\", \"September\", \"October\", \"November\", \"December\"] \n",
    "Month_Number = [*range(1,13,1)]\n",
    "Result_2 = {Months[i]: Month_Number[i] for i \n",
    "          in range(len(Months))} \n",
    "  \n",
    "# Printing resultant dictionary  \n",
    "print (\"Output of Method 2 : \" +  str(Result_2)) "
   ]
  },
  {
   "cell_type": "markdown",
   "metadata": {},
   "source": [
    "## Method 3"
   ]
  },
  {
   "cell_type": "code",
   "execution_count": 3,
   "metadata": {},
   "outputs": [
    {
     "name": "stdout",
     "output_type": "stream",
     "text": [
      "Output of Method 3 : {'January': 1, 'February': 2, 'March': 3, 'April': 4, 'May': 5, 'June': 6, 'July': 7, 'August': 8, 'September': 9, 'October': 10, 'November': 11, 'December': 12}\n"
     ]
    }
   ],
   "source": [
    "Months = [\"January\", \"February\", \"March\", \"April\", \"May\", \"June\", \"July\", \"August\", \"September\", \"October\", \"November\", \"December\"] \n",
    "Month_Number = [*range(1,13,1)]\n",
    "Result_3 = dict(zip(Months, Month_Number)) \n",
    "  \n",
    "# Printing resultant dictionary  \n",
    "print (\"Output of Method 3 : \" +  str(Result_3)) "
   ]
  }
 ],
 "metadata": {
  "kernelspec": {
   "display_name": "Python 3",
   "language": "python",
   "name": "python3"
  },
  "language_info": {
   "codemirror_mode": {
    "name": "ipython",
    "version": 3
   },
   "file_extension": ".py",
   "mimetype": "text/x-python",
   "name": "python",
   "nbconvert_exporter": "python",
   "pygments_lexer": "ipython3",
   "version": "3.7.4"
  }
 },
 "nbformat": 4,
 "nbformat_minor": 4
}
